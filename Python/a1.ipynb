{
 "cells": [
  {
   "attachments": {},
   "cell_type": "markdown",
   "metadata": {},
   "source": [
    "# Assisgnment [ PYTHON ]"
   ]
  },
  {
   "attachments": {},
   "cell_type": "markdown",
   "metadata": {},
   "source": [
    "### 1. Write a prime gencrator program using only primes and using python loops. \n"
   ]
  },
  {
   "cell_type": "code",
   "execution_count": 1,
   "metadata": {},
   "outputs": [
    {
     "name": "stdout",
     "output_type": "stream",
     "text": [
      "0\n",
      "1\n",
      "2\n",
      "3\n",
      "5\n",
      "7\n",
      "11\n",
      "13\n",
      "17\n",
      "19\n"
     ]
    }
   ],
   "source": [
    "def is_prime(num):\n",
    "    for i in range(2,num):\n",
    "        if num%i == 0:\n",
    "            return False\n",
    "    return True\n",
    "\n",
    "for i in range(100):\n",
    "    if is_prime(i):\n",
    "        print(i , end = \" \")"
   ]
  },
  {
   "attachments": {},
   "cell_type": "markdown",
   "metadata": {},
   "source": [
    "### 2. Write a discount coupon code using dictionary in Python with different rate coupons for each day of the week."
   ]
  },
  {
   "cell_type": "code",
   "execution_count": 7,
   "metadata": {},
   "outputs": [
    {
     "name": "stdout",
     "output_type": "stream",
     "text": [
      "monday --> 50%\n",
      "tuesday --> 40%\n",
      "wednesday --> 30%\n",
      "thursday --> 20%\n",
      "friday --> 10%\n",
      "saturday --> 65%\n",
      "sunday --> 80%\n"
     ]
    }
   ],
   "source": [
    "coupons = {\n",
    "    \"monday\" : 50,\n",
    "    \"tuesday\" : 40,\n",
    "    \"wednesday\" : 30,\n",
    "    \"thursday\" : 20,\n",
    "    \"friday\" : 10,\n",
    "    \"saturday\" : 65,\n",
    "    \"sunday\" : 80\n",
    "}\n",
    "\n",
    "for key,value in coupons.items():\n",
    "    print(key ,\"-->\", str(value)+\"%\")"
   ]
  },
  {
   "attachments": {},
   "cell_type": "markdown",
   "metadata": {},
   "source": [
    "### 3.Print first 10 odd and even numbers using iterators and compress. You can use duck typing."
   ]
  },
  {
   "cell_type": "code",
   "execution_count": 11,
   "metadata": {},
   "outputs": [
    {
     "name": "stdout",
     "output_type": "stream",
     "text": [
      "[0, 2, 4, 6, 8, 10, 12, 14, 16, 18]\n",
      "[1, 3, 5, 7, 9, 11, 13, 15, 17, 19]\n"
     ]
    }
   ],
   "source": [
    "# 3.Print first 10 odd and even numbers using iterators and compress. You can use duck typing.\n",
    "import itertools\n",
    "import operator\n",
    "\n",
    "even = list(itertools.compress(range(20),[i%2==0 for i in range(20)]))\n",
    "odd = list(itertools.compress(range(20),[i%2==1 for i in range(20)]))\n",
    "print(even)\n",
    "print(odd)"
   ]
  },
  {
   "attachments": {},
   "cell_type": "markdown",
   "metadata": {},
   "source": [
    "### 4. Write regular expression to validate phone number."
   ]
  },
  {
   "cell_type": "code",
   "execution_count": 16,
   "metadata": {},
   "outputs": [
    {
     "name": "stdout",
     "output_type": "stream",
     "text": [
      "Valid phone number\n"
     ]
    }
   ],
   "source": [
    "# Write regular expression to validate phone number.\n",
    "import re\n",
    "phone = input(\"Enter your phone number : \")\n",
    "pattern = re.compile(r\"^[\\+]?[0-9]{0,2}[\\s]?[0-9]{10}$\")\n",
    "if pattern.match(phone):\n",
    "    print(\"Valid phone number\")\n",
    "else:\n",
    "    print(\"Invalid phone number\")"
   ]
  },
  {
   "attachments": {},
   "cell_type": "markdown",
   "metadata": {},
   "source": [
    "### 5.Write first seven Fibinacci numbers using generator next function/ yeild in python. trace and memorize the function.\n"
   ]
  },
  {
   "cell_type": "code",
   "execution_count": 14,
   "metadata": {},
   "outputs": [
    {
     "name": "stdout",
     "output_type": "stream",
     "text": [
      "0\n",
      "1\n",
      "1\n",
      "2\n",
      "3\n",
      "5\n",
      "8\n"
     ]
    }
   ],
   "source": [
    "# Write first seven Fibinacci numbers using generator next function/ yeild in python. trace and memorize the function.\n",
    "def fib():\n",
    "    a,b = 0,1\n",
    "    while True:\n",
    "        yield a\n",
    "        a,b = b,a+b\n",
    "\n",
    "f = fib()\n",
    "for i in range(7):\n",
    "    print(next(f))\n",
    "\n",
    "    "
   ]
  },
  {
   "attachments": {},
   "cell_type": "markdown",
   "metadata": {},
   "source": [
    "### 8. Create list of all the numbers up to N=50 which are multiples of five using anonymous function."
   ]
  },
  {
   "cell_type": "code",
   "execution_count": 18,
   "metadata": {},
   "outputs": [
    {
     "name": "stdout",
     "output_type": "stream",
     "text": [
      "[0, 5, 10, 15, 20, 25, 30, 35, 40, 45]\n"
     ]
    }
   ],
   "source": [
    "# Create list of all the numbers up to N=50 which are multiples of five using anonymousfunction.\n",
    "N = 50\n",
    "multiples_of_five = list(filter(lambda x : x%5==0,range(N)))\n",
    "print(multiples_of_five)"
   ]
  },
  {
   "attachments": {},
   "cell_type": "markdown",
   "metadata": {},
   "source": [
    "### 11. find all Pythagorean triples whose short sides are numbers smaller than 10. use filter and comprehension."
   ]
  },
  {
   "cell_type": "code",
   "execution_count": 20,
   "metadata": {},
   "outputs": [
    {
     "name": "stdout",
     "output_type": "stream",
     "text": [
      "[(3, 4, 5), (4, 3, 5)]\n",
      "[(3, 4, 5), (4, 3, 5)]\n"
     ]
    }
   ],
   "source": [
    "#11. find all Pythagorean triples whose short sides are numbers smaller than 10. use filter and comprehension.\n",
    "# comprehension\n",
    "py_trip_comp = [(x,y,z) for x in range(1,10) for y in range(1,10) for z in range(1,10) if x**2 + y**2 == z**2]\n",
    "print(py_trip_comp)\n",
    "# filter\n",
    "pythagorean_triples = list(filter(lambda x : x[0]**2 + x[1]**2 == x[2]**2,[(x,y,z) for x in range(1,10) for y in range(1,10) for z in range(1,10)]))\n",
    "print(pythagorean_triples)"
   ]
  },
  {
   "attachments": {},
   "cell_type": "markdown",
   "metadata": {},
   "source": [
    "### 12. Enumerate the sequence of all lowercase ASCII letters, Starting from 1, using enumerate,"
   ]
  },
  {
   "cell_type": "code",
   "execution_count": 25,
   "metadata": {},
   "outputs": [
    {
     "name": "stdout",
     "output_type": "stream",
     "text": [
      "1 -> a, 2 -> b, 3 -> c, 4 -> d, 5 -> e, 6 -> f, 7 -> g, 8 -> h, 9 -> i, 10 -> j, 11 -> k, 12 -> l, 13 -> m, 14 -> n, 15 -> o, 16 -> p, 17 -> q, 18 -> r, 19 -> s, 20 -> t, 21 -> u, 22 -> v, 23 -> w, 24 -> x, 25 -> y, 26 -> z, "
     ]
    }
   ],
   "source": [
    "# 12. Enumerate the sequence of all lowercase ASCII letters, Starting from 1, using enumerate,\n",
    "\n",
    "for i,j in enumerate([chr(i) for i in range(97,123)],1):\n",
    "    print(i,\"->\",j , end = \", \")"
   ]
  },
  {
   "attachments": {},
   "cell_type": "markdown",
   "metadata": {},
   "source": [
    "### 24.Write python program to identify and extract numerical chunks from text file and convert them into words; e.g.; 1992 \"nineteen hundred and ninety two\".\n"
   ]
  },
  {
   "cell_type": "code",
   "execution_count": 1,
   "metadata": {},
   "outputs": [
    {
     "name": "stdout",
     "output_type": "stream",
     "text": [
      "1998 -> one thousand nine hundred and ninety eight\n",
      "30002 -> thirty  thousand two\n",
      "1 -> one\n",
      "222 -> two hundred and twenty two\n",
      "0000 -> zero\n",
      "879 -> eight hundred and seventy nine\n",
      "511 -> five hundred and eleven\n",
      "61 -> sixty one\n",
      "31 -> thirty one\n"
     ]
    }
   ],
   "source": [
    "# 24.Write python program to identify and extract numerical chunks from text file and convert them into words; e.g.; 1992 \"nineteen hundred and ninety two\".\n",
    "\n",
    "def num2words(num):\n",
    "    units = [\"\",\"one\",\"two\",\"three\",\"four\",\"five\",\"six\",\"seven\",\"eight\",\"nine\"]\n",
    "    tens = [\"\",\"\",\"twenty\",\"thirty\",\"fourty\",\"fifty\",\"sixty\",\"seventy\",\"eighty\",\"ninety\"]\n",
    "    teens = [\"ten\",\"eleven\",\"twelve\",\"thirteen\",\"fourteen\",\"fifteen\",\"sixteen\",\"seventeen\",\"eighteen\",\"ninteen\"]\n",
    "    if num == 0:\n",
    "        return \"zero\"\n",
    "    elif num < 10:\n",
    "        return units[num]\n",
    "    elif num < 20:\n",
    "        return teens[num%10]\n",
    "    elif num < 100:\n",
    "        return tens[num//10] + \" \" + units[num%10]\n",
    "    elif num < 1000:\n",
    "        return units[num//100] + \" hundred and \" + num2words(num%100)\n",
    "    elif num < 100000:\n",
    "        return num2words(num//1000) + \" thousand \" + num2words(num%1000)\n",
    "    elif num < 10000000:\n",
    "        return num2words(num//100000) + \" lakh \" + num2words(num%100000)\n",
    "    elif num < 1000000000:\n",
    "        return num2words(num//10000000) + \" crore \" + num2words(num%10000000)\n",
    "    else:\n",
    "        return \"out of range\"\n",
    "\n",
    "import re\n",
    "with open(\"text.txt\",\"r\") as f:\n",
    "    text = f.read()\n",
    "    pattern = re.compile(r\"[0-9]+\")\n",
    "    numbers = pattern.findall(text)\n",
    "    for i in numbers:\n",
    "        print(i,\"->\",num2words(int(i)))\n",
    "\n"
   ]
  },
  {
   "attachments": {},
   "cell_type": "markdown",
   "metadata": {},
   "source": [
    "### 14. Search for palindrome and unique words in a text file using class method and string methods.\n"
   ]
  },
  {
   "cell_type": "code",
   "execution_count": 1,
   "metadata": {},
   "outputs": [
    {
     "name": "stdout",
     "output_type": "stream",
     "text": [
      "Palindromes :  ['a', '1', '222', '0000']\n",
      "Unique words :  {'like', '879', 'is', '511', 'text', 'numberrrrrrrrrrrs', 'a', 'this', '1998,30002', '222', '0000', 'containing', '61', '1', '31'}\n"
     ]
    }
   ],
   "source": [
    "# Search for palindrome and unique words in a text file using class method and string methods.\n",
    "class Text:\n",
    "    def __init__(self,text):\n",
    "        self.text = text\n",
    "        self.words = text.split()\n",
    "    def palindrome(self):\n",
    "        palindromes = []\n",
    "        for word in self.words:\n",
    "            if word == word[::-1]:\n",
    "                palindromes.append(word)\n",
    "        return palindromes\n",
    "    def unique(self):\n",
    "        return set(self.words)\n",
    "    \n",
    "with open(\"text.txt\",\"r\") as f:\n",
    "    text = f.read()\n",
    "    t = Text(text)\n",
    "    print(\"Palindromes : \",t.palindrome())\n",
    "    print(\"Unique words : \",t.unique())\n",
    "    "
   ]
  }
 ],
 "metadata": {
  "kernelspec": {
   "display_name": "Python 3",
   "language": "python",
   "name": "python3"
  },
  "language_info": {
   "codemirror_mode": {
    "name": "ipython",
    "version": 3
   },
   "file_extension": ".py",
   "mimetype": "text/x-python",
   "name": "python",
   "nbconvert_exporter": "python",
   "pygments_lexer": "ipython3",
   "version": "3.10.11"
  },
  "orig_nbformat": 4
 },
 "nbformat": 4,
 "nbformat_minor": 2
}
